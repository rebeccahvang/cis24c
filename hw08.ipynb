{
 "cells": [
  {
   "cell_type": "markdown",
   "metadata": {},
   "source": [
    "\n",
    "# CIS024C - Summer 2018\n",
    "\n",
    "## Homework 8\n",
    "\n",
    "Homework 8 covers exercises that involve Exception Handling\n",
    "\n",
    "The below sites have some interesting and useful information on working with files\n",
    "\n",
    "* Errors and Exceptions: https://docs.python.org/2/tutorial/errors.html\n",
    "* Built-in Exceptions: https://docs.python.org/2/library/exceptions.html\n",
    "\n",
    "You will need to download this notebook and use this as a starting point for your homework. You will just need to fill in the content of each code-block (cell) and execute. Once you have completed all the exercises, you will need to save and upload this to your github repository under a folder called hw7.\n",
    "\n",
    "Note also the exercises build on top of one another so you might be able to do the next exercise if you have not completed the previous exercise.\n",
    "\n",
    "Post any questions you have on our Slack at **cis-024c1.slack.com**\n",
    "\n",
    "** Slides ** for Week 7 can be found at \n",
    "\n",
    "https://docs.google.com/presentation/d/1HcWIuVciM0_L935Umi5rPgQHJYIv1bNfYnErfOelbtw/edit?usp=sharing\n",
    "\n",
    "**Please refer back to hw1 and slack for instructions on how to setup your computer for developing using Python.**"
   ]
  },
  {
   "cell_type": "markdown",
   "metadata": {},
   "source": [
    "### Helpful Jupyter Commands\n",
    "\n",
    "Below are some useful commands to know when using Jupyter\n",
    "\n",
    "1. You can add a new cell by clicking on the \"+\" icon on top.\n",
    "2. You can delete a cell by selecting that cell and clicking on the \"scissors\" icon on top.\n",
    "3. You can execute a cell by either pressing shift+enter or selecting the \"play\" button on top.\n",
    "4. You can create a new file in Jupyter via the File menu->New Notebook option. Make sure to select Python 2 when creating your notebook.\n",
    "5. Also, for your code blocks make sure that Code is selected instead of another option like Markdown.\n",
    "6. Use the Enter key to go to the next line in a cell to enter the next statement.\n",
    "7. You can clear results by clicking on the Cell menu item and selecting Current Output->Clear or All Output->Clear depending on whether you are trying to just clear the output for one cell or for all cells.\n",
    "8. In case your program has crashed for some reason (infinite loop, for example), you can restart your Python session by select Kernel in the menu and selecting Restart.\n"
   ]
  },
  {
   "cell_type": "markdown",
   "metadata": {},
   "source": [
    "#### Check Python Version"
   ]
  },
  {
   "cell_type": "code",
   "execution_count": 1,
   "metadata": {},
   "outputs": [
    {
     "name": "stdout",
     "output_type": "stream",
     "text": [
      "Python 3.6.5 :: Anaconda, Inc.\r\n"
     ]
    }
   ],
   "source": [
    "!python --version"
   ]
  },
  {
   "cell_type": "markdown",
   "metadata": {},
   "source": [
    "**Exercise 1 - Testing your knowledge of Exceptions **\n",
    "\n",
    "Answer the below questions\n",
    "\n",
    "1. What is the difference between a Syntax Error and a Runtime Error?\n",
    "2. Are exceptions Syntax Errors or Runtime Errors?\n",
    "3. How do exceptions help a programmer?\n",
    "4. Which exception is raised when the user tries to use a variable that has not been defined?"
   ]
  },
  {
   "cell_type": "markdown",
   "metadata": {},
   "source": [
    "1. A syntax error is a problem in the \"grammar\" of your code. It is when you miss a colon mark, parantheses, or a specific key word. A runtime error is when although the syntax is okay, the program runs into a problem. For example, if a variable that is not defined is used or if division by zero is attempted. \n",
    "\n",
    "2. Exceptions are runtime errors.\n",
    "\n",
    "3. Exceptions allow programmers to avoid running into errors and having users see the error message. It allows them to control what is displayed when an error occurs, to handle an error.\n",
    "\n",
    "4. A NameError is raised when a variable not defined is used."
   ]
  },
  {
   "cell_type": "markdown",
   "metadata": {},
   "source": [
    "#### Exercise 2 -  Raising Exceptions\n",
    "\n",
    "Write python programs that raise the following exceptions.\n",
    "\n",
    "1. ValueError\n",
    "2. TypeError\n",
    "3. IndexError\n",
    "4. KeyError"
   ]
  },
  {
   "cell_type": "code",
   "execution_count": 3,
   "metadata": {},
   "outputs": [
    {
     "name": "stdout",
     "output_type": "stream",
     "text": [
      "ValueError Exception\n"
     ]
    },
    {
     "ename": "ValueError",
     "evalue": "invalid literal for int() with base 10: 'seven'",
     "output_type": "error",
     "traceback": [
      "\u001b[0;31m---------------------------------------------------------------------------\u001b[0m",
      "\u001b[0;31mValueError\u001b[0m                                Traceback (most recent call last)",
      "\u001b[0;32m<ipython-input-3-b3cc0401af04>\u001b[0m in \u001b[0;36m<module>\u001b[0;34m()\u001b[0m\n\u001b[1;32m     10\u001b[0m \u001b[0;34m\u001b[0m\u001b[0m\n\u001b[1;32m     11\u001b[0m \u001b[0;34m\u001b[0m\u001b[0m\n\u001b[0;32m---> 12\u001b[0;31m \u001b[0mageInt\u001b[0m \u001b[0;34m=\u001b[0m \u001b[0mint\u001b[0m\u001b[0;34m(\u001b[0m\u001b[0mmyAge\u001b[0m\u001b[0;34m)\u001b[0m\u001b[0;34m\u001b[0m\u001b[0m\n\u001b[0m\u001b[1;32m     13\u001b[0m \u001b[0;34m\u001b[0m\u001b[0m\n\u001b[1;32m     14\u001b[0m \u001b[0;31m### END CODE\u001b[0m\u001b[0;34m\u001b[0m\u001b[0;34m\u001b[0m\u001b[0m\n",
      "\u001b[0;31mValueError\u001b[0m: invalid literal for int() with base 10: 'seven'"
     ]
    }
   ],
   "source": [
    "### YOUR CODE GOES \n",
    "\n",
    "myAge = \"seven\"\n",
    "\n",
    "try:\n",
    "    ageInt = int(myAge)\n",
    "except:\n",
    "    print(\"ValueError Exception\")\n",
    "    \n",
    "########\n",
    "\n",
    "ageInt = int(myAge)\n",
    "    \n",
    "### END CODE"
   ]
  },
  {
   "cell_type": "code",
   "execution_count": 4,
   "metadata": {},
   "outputs": [
    {
     "name": "stdout",
     "output_type": "stream",
     "text": [
      "TypeError Exception\n"
     ]
    },
    {
     "ename": "TypeError",
     "evalue": "must be str, not int",
     "output_type": "error",
     "traceback": [
      "\u001b[0;31m---------------------------------------------------------------------------\u001b[0m",
      "\u001b[0;31mTypeError\u001b[0m                                 Traceback (most recent call last)",
      "\u001b[0;32m<ipython-input-4-97a7a60b160a>\u001b[0m in \u001b[0;36m<module>\u001b[0;34m()\u001b[0m\n\u001b[1;32m     10\u001b[0m \u001b[0;31m########\u001b[0m\u001b[0;34m\u001b[0m\u001b[0;34m\u001b[0m\u001b[0m\n\u001b[1;32m     11\u001b[0m \u001b[0;34m\u001b[0m\u001b[0m\n\u001b[0;32m---> 12\u001b[0;31m \u001b[0minfo\u001b[0m \u001b[0;34m=\u001b[0m \u001b[0mname\u001b[0m \u001b[0;34m+\u001b[0m \u001b[0mage\u001b[0m\u001b[0;34m\u001b[0m\u001b[0m\n\u001b[0m",
      "\u001b[0;31mTypeError\u001b[0m: must be str, not int"
     ]
    }
   ],
   "source": [
    "name = \"Rebecca\"\n",
    "age = 17\n",
    "\n",
    "try:\n",
    "    info = name + age\n",
    "except:\n",
    "    print(\"TypeError Exception\")\n",
    "    \n",
    "    \n",
    "########\n",
    "\n",
    "info = name + age"
   ]
  },
  {
   "cell_type": "code",
   "execution_count": 5,
   "metadata": {},
   "outputs": [
    {
     "name": "stdout",
     "output_type": "stream",
     "text": [
      "IndexError Exception\n"
     ]
    },
    {
     "ename": "IndexError",
     "evalue": "list index out of range",
     "output_type": "error",
     "traceback": [
      "\u001b[0;31m---------------------------------------------------------------------------\u001b[0m",
      "\u001b[0;31mIndexError\u001b[0m                                Traceback (most recent call last)",
      "\u001b[0;32m<ipython-input-5-5b338bbda9a8>\u001b[0m in \u001b[0;36m<module>\u001b[0;34m()\u001b[0m\n\u001b[1;32m      9\u001b[0m \u001b[0;31m##########\u001b[0m\u001b[0;34m\u001b[0m\u001b[0;34m\u001b[0m\u001b[0m\n\u001b[1;32m     10\u001b[0m \u001b[0;34m\u001b[0m\u001b[0m\n\u001b[0;32m---> 11\u001b[0;31m \u001b[0mnameList\u001b[0m\u001b[0;34m[\u001b[0m\u001b[0;36m3\u001b[0m\u001b[0;34m]\u001b[0m\u001b[0;34m\u001b[0m\u001b[0m\n\u001b[0m",
      "\u001b[0;31mIndexError\u001b[0m: list index out of range"
     ]
    }
   ],
   "source": [
    "nameList = [\"Sophia\", \"Kelly\", \"Rebecca\"]\n",
    "\n",
    "try:\n",
    "    nameList[3]\n",
    "except:\n",
    "    print(\"IndexError Exception\")\n",
    "    \n",
    "    \n",
    "##########\n",
    "\n",
    "nameList[3]"
   ]
  },
  {
   "cell_type": "code",
   "execution_count": 6,
   "metadata": {},
   "outputs": [
    {
     "name": "stdout",
     "output_type": "stream",
     "text": [
      "KeyError Exception\n"
     ]
    },
    {
     "ename": "KeyError",
     "evalue": "0",
     "output_type": "error",
     "traceback": [
      "\u001b[0;31m---------------------------------------------------------------------------\u001b[0m",
      "\u001b[0;31mKeyError\u001b[0m                                  Traceback (most recent call last)",
      "\u001b[0;32m<ipython-input-6-88292c13fb7d>\u001b[0m in \u001b[0;36m<module>\u001b[0;34m()\u001b[0m\n\u001b[1;32m      9\u001b[0m \u001b[0;31m##########\u001b[0m\u001b[0;34m\u001b[0m\u001b[0;34m\u001b[0m\u001b[0m\n\u001b[1;32m     10\u001b[0m \u001b[0;34m\u001b[0m\u001b[0m\n\u001b[0;32m---> 11\u001b[0;31m \u001b[0mmyDict\u001b[0m\u001b[0;34m[\u001b[0m\u001b[0;36m0\u001b[0m\u001b[0;34m]\u001b[0m\u001b[0;34m\u001b[0m\u001b[0m\n\u001b[0m",
      "\u001b[0;31mKeyError\u001b[0m: 0"
     ]
    }
   ],
   "source": [
    "myDict = {1: \"soph\", 2:\"kel\", 3:\"becca\"}\n",
    "\n",
    "try:\n",
    "    myDict[0]\n",
    "except:\n",
    "    print(\"KeyError Exception\")\n",
    "    \n",
    "    \n",
    "##########\n",
    "\n",
    "myDict[0]"
   ]
  },
  {
   "cell_type": "markdown",
   "metadata": {},
   "source": [
    "#### Exercise 3 - Handling Exceptions\n",
    "\n",
    "Write a Python program that asks the user to enter a GPA (integer values - 0,1,2,3 or 4). Convert the input from the user into an integer. Write an exception handler to handle the ValueError exception and display the message \"ValueError occurred. Please try again\". If the value entered by the user is not compatible with integer values the program will raise a ValueError exception and display the message from within the exception handler."
   ]
  },
  {
   "cell_type": "code",
   "execution_count": 5,
   "metadata": {},
   "outputs": [
    {
     "name": "stdout",
     "output_type": "stream",
     "text": [
      "Enter GPA: h\n",
      "ValueError occured. Please try again\n"
     ]
    }
   ],
   "source": [
    "### YOUR CODE GOES \n",
    "\n",
    "myGPA = input(\"Enter GPA: \")\n",
    "\n",
    "try:\n",
    "    gpaInt = int(myGPA)\n",
    "except:\n",
    "    print(\"ValueError occured. Please try again\")\n",
    "    \n",
    "### END CODE"
   ]
  },
  {
   "cell_type": "markdown",
   "metadata": {},
   "source": [
    "#### Exercise 4 - Displaying the error description in an Exception\n",
    "\n",
    "Create a list of **5** items in a grocery cart. For example, your list can be something like the below\n",
    "\n",
    "**Example of a list with 2 items:**\n",
    "groceryList = [\"suger\",\"rice\"]\n",
    "\n",
    "Write an exception handler to handle an IndexError exceptio and store the details of the exception in a variable called **details**. If the exception occurs, print out a message saying \"Exception Occurred\" along with the details (from **details** variable). \n",
    "\n",
    "In your program attempt to access the 6th item in the list. \n",
    "\n",
    "Since there are only 5 elements, the exception handler should be triggered and the message printed inside the exception should be printed."
   ]
  },
  {
   "cell_type": "code",
   "execution_count": 6,
   "metadata": {},
   "outputs": [
    {
     "name": "stdout",
     "output_type": "stream",
     "text": [
      "Exception Occurred: list index out of range\n"
     ]
    }
   ],
   "source": [
    "### YOUR CODE GOES BELOW\n",
    "\n",
    "groceryList = [\"apples\", \"milk\", \"cereal\", \"eggs\", \"spaghetti\"]\n",
    "\n",
    "try:\n",
    "    itemNeeded = groceryList[6]\n",
    "except IndexError as details:\n",
    "    print(\"Exception Occurred:\", details)\n",
    "\n",
    "### END CODE"
   ]
  },
  {
   "cell_type": "markdown",
   "metadata": {},
   "source": [
    "#### Exercise 5 - Using loops to wait for a user to enter a valid value\n",
    "\n",
    "**This is a partial repeat of problem 3. You should be able to reuse that code**\n",
    "\n",
    "Write a Python program that asks the user to enter a GPA (integer values - 0,1,2,3 or 4). Convert the input from the user into an integer. Write an exception handler to handle the ValueError exception and display the message \"ValueError occurred. Please try again\". If the value entered by the user is not compatible with integer values the program will raise a ValueError exception and display the message from within the exception handler.\n",
    "\n",
    "Place the above code to get user input inside a **while** loop. As long as the user is entering an invalid numeric value, the program should **continue** to prompt the user to enter the GPA. When the user enters a correct value, the program should **break** out of the while loop and print the GPA.\n",
    "\n",
    "**Please see classwork for similar examples**"
   ]
  },
  {
   "cell_type": "code",
   "execution_count": 9,
   "metadata": {},
   "outputs": [
    {
     "name": "stdout",
     "output_type": "stream",
     "text": [
      "Enter GPA: 3.99\n",
      "ValueError occured. Please try again\n",
      "Enter GPA: 4\n",
      "Your GPA: 4\n"
     ]
    }
   ],
   "source": [
    "### YOUR CODE GOES \n",
    "\n",
    "gpaInt = 0\n",
    "\n",
    "while True:\n",
    "    myGPA = input(\"Enter GPA: \")\n",
    "\n",
    "    try:\n",
    "        gpaInt = int(myGPA)\n",
    "    except:\n",
    "        print(\"ValueError occured. Please try again\")\n",
    "        gpaInt = 0\n",
    "        continue\n",
    "    break\n",
    "\n",
    "print(\"Your GPA:\",gpaInt)\n",
    "    \n",
    "### END CODE"
   ]
  },
  {
   "cell_type": "markdown",
   "metadata": {},
   "source": [
    "## OPTIONAL EXERCISES\n",
    "\n",
    "Below is a set of optional exercises. These will not be graded but the solutions will be posted. I would strongly encourage you to try these out if you are done with the mandatory homework exercises to improve your understanding of python."
   ]
  },
  {
   "cell_type": "markdown",
   "metadata": {},
   "source": [
    "#### Exercise 6\n",
    "\n",
    "Write a python program to build a simple chatbot. The chatbot will accept input from the user, check the input against a dictionary and display the corresponding value. \n",
    "\n",
    "Below is the dictionary that the chatbot will use.\n",
    "\n",
    "```\n",
    "conversationsDict = {\n",
    "'how are you':'I am fine, thank you.How are you today',\n",
    "'i am well':'Cool! How can I help you today',\n",
    "'can you tell me what the weather is like today':'Sure. It looks mostly sunny with a high of 80 degrees',\n",
    "'thank you very much':'You are welcome. Have a nice day'\n",
    "}\n",
    "```\n",
    "\n",
    "Note that the dictionary **key** is the value entered by the user and the **value** is the response from the chatbot. The chatbot must use the user input to look up the dictionary for a response. If a response is found, then the chatbot must print the response. If the key is Invalid, then a KeyError exception handler must handle the exception displaying the messsage \"Sorry, I did not get that\". It must then allow the user to repeat the question."
   ]
  },
  {
   "cell_type": "code",
   "execution_count": null,
   "metadata": {},
   "outputs": [],
   "source": [
    "### YOUR CODE GOES BELOW\n",
    "\n",
    "while True:\n",
    "    conversationsDict = {'how are you':'I am fine, thank you.How are you today',\n",
    "    'i am well':'Cool! How can I help you today',\n",
    "    'can you tell me what the weather is like today':'Sure. It looks mostly sunny with a high of 80 degrees',\n",
    "    'thank you very much':'You are welcome. Have a nice day'}\n",
    "\n",
    "    try:\n",
    "        userInput = input(\"Enter your message: \")\n",
    "        for i in range(len(conversationsDict)):\n",
    "            if userInput == conversationsDict[i]:\n",
    "                print(conversationsDict.value())\n",
    "    except:\n",
    "        print(\"Sorry, I did not get that.\")\n",
    "        continue\n",
    "\n",
    "    break\n",
    "\n",
    "    \n",
    "### END CODE"
   ]
  },
  {
   "cell_type": "markdown",
   "metadata": {},
   "source": [
    "#### Exercise 7\n",
    "\n",
    "Write two Python  to compute the average of a list of numbers. The inputs to the function is a python **List**. The output is the average. The function must have an Exception handler to handle the **ZeroDivisionError exception**. \n",
    "\n",
    "Verify that the ZeroDivisionError handler works by passing in an empty list."
   ]
  },
  {
   "cell_type": "code",
   "execution_count": 7,
   "metadata": {},
   "outputs": [],
   "source": [
    "### YOUR CODE GOES BELOW\n",
    "\n",
    "\n",
    "\n",
    "### END CODE"
   ]
  },
  {
   "cell_type": "markdown",
   "metadata": {},
   "source": [
    "#### Exercise 8\n",
    "\n",
    "Write a python program that accepts a sequence of words, some of them numbers. Attempt to perform an integer add on all the words that were entered. If a word that is not a number is encountered, use the ValueError to skip the next word. Display the resulting sum of all the numbers."
   ]
  },
  {
   "cell_type": "code",
   "execution_count": 2,
   "metadata": {},
   "outputs": [
    {
     "name": "stdout",
     "output_type": "stream",
     "text": [
      "Enter a sequence of words/numbers: 4,5,6,hi\n",
      "4,5,6,hi\n",
      "0\n"
     ]
    }
   ],
   "source": [
    "### YOUR CODE GOES BELOW\n",
    "\n",
    "userInput = input(\"Enter a sequence of words/numbers: \")\n",
    "print(userInput)\n",
    "total = 0\n",
    "\n",
    "for i in range(len(userInput)):\n",
    "    try:\n",
    "        intInput = int(userInput)\n",
    "        total += intInput\n",
    "    except:\n",
    "        i += 1\n",
    "        continue\n",
    "    \n",
    "print(total)\n",
    "\n",
    "### END CODE"
   ]
  },
  {
   "cell_type": "code",
   "execution_count": null,
   "metadata": {},
   "outputs": [],
   "source": []
  }
 ],
 "metadata": {
  "kernelspec": {
   "display_name": "Python 3",
   "language": "python",
   "name": "python3"
  },
  "language_info": {
   "codemirror_mode": {
    "name": "ipython",
    "version": 3
   },
   "file_extension": ".py",
   "mimetype": "text/x-python",
   "name": "python",
   "nbconvert_exporter": "python",
   "pygments_lexer": "ipython3",
   "version": "3.6.5"
  }
 },
 "nbformat": 4,
 "nbformat_minor": 2
}
