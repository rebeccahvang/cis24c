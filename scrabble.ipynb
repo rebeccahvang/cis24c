{
 "cells": [
  {
   "cell_type": "code",
   "execution_count": 50,
   "metadata": {},
   "outputs": [],
   "source": [
    "import colorama\n",
    "from colorama import Fore\n",
    "\n",
    "import random\n",
    "import string\n",
    "\n",
    "VOWELS = 'aeiou'\n",
    "CONSONANTS = 'bcdfghjklmnpqrstvwxyz'\n",
    "HAND_SIZE = 7\n",
    "\n",
    "SCRABBLE_LETTER_VALUES = {\n",
    "    'a': 1, 'b': 3, 'c': 3, 'd': 2, 'e': 1, 'f': 4, 'g': 2, 'h': 4, 'i': 1, 'j': 8, 'k': 5, 'l': 1, 'm': 3, 'n': 1, 'o': 1, 'p': 3, 'q': 10, 'r': 1, 's': 1, 't': 1, 'u': 1, 'v': 4, 'w': 4, 'x': 8, 'y': 4, 'z': 10\n",
    "}\n",
    "\n",
    "\n",
    "WORDLIST_FILENAME = \"words.txt\""
   ]
  },
  {
   "cell_type": "code",
   "execution_count": 51,
   "metadata": {},
   "outputs": [],
   "source": [
    "def loadWords():\n",
    "    \"\"\"\n",
    "    Returns a list of valid words. Words are strings of lowercase letters.\n",
    "    \"\"\"\n",
    "    print(\"Loading word list from file...\")\n",
    "    # inFile: file\n",
    "    inFile = open(WORDLIST_FILENAME, 'r')\n",
    "    # wordList: list of strings\n",
    "    wordList = []\n",
    "    for line in inFile:\n",
    "        wordList.append(line.strip().lower())\n",
    "    print(\"  \", len(wordList), \"words loaded.\")\n",
    "    return wordList"
   ]
  },
  {
   "cell_type": "code",
   "execution_count": 52,
   "metadata": {},
   "outputs": [],
   "source": [
    "def getFrequencyDict(sequence):\n",
    "    \"\"\"\n",
    "    Returns a dictionary where the keys are elements of the sequence\n",
    "    and the values are integer counts, for the number of times that\n",
    "    an element is repeated in the sequence.\n",
    "\n",
    "    sequence: string or list\n",
    "    return: dictionary\n",
    "    \"\"\"\n",
    "    # freqs: dictionary (element_type -> int)\n",
    "    freq = {}\n",
    "    for x in sequence:\n",
    "        freq[x] = freq.get(x,0) + 1\n",
    "    return freq"
   ]
  },
  {
   "cell_type": "markdown",
   "metadata": {},
   "source": [
    "### Scoring a word"
   ]
  },
  {
   "cell_type": "code",
   "execution_count": 53,
   "metadata": {},
   "outputs": [],
   "source": [
    "def getWordScore(word, n):\n",
    "    \"\"\"\n",
    "    Returns the score for a word. Assumes the word is a valid word.\n",
    "\n",
    "    The score for a word is the sum of the points for letters in the\n",
    "    word, multiplied by the length of the word, PLUS 50 points if all n\n",
    "    letters are used on the first turn.\n",
    "\n",
    "    Letters are scored as in Scrabble; A is worth 1, B is worth 3, C is\n",
    "    worth 3, D is worth 2, E is worth 1, and so on (see SCRABBLE_LETTER_VALUES)\n",
    "\n",
    "    word: string (lowercase letters)\n",
    "    n: integer (HAND_SIZE; i.e., hand size required for additional points)\n",
    "    returns: int >= 0\n",
    "    \"\"\"\n",
    "    #keep track of total score\n",
    "    total = 0\n",
    "    \n",
    "    #get score for each letter in user's word\n",
    "    for letter in word:\n",
    "        for key in SCRABBLE_LETTER_VALUES:\n",
    "            #find score for letter in dict\n",
    "            if letter == key:\n",
    "                total += SCRABBLE_LETTER_VALUES.get(key)\n",
    "    \n",
    "    #multiply by word length, as given by rules\n",
    "    total = total * len(word)\n",
    "    \n",
    "    #if all letters used, 50 bonus points\n",
    "    if len(word) == n:\n",
    "        total += 50\n",
    "        \n",
    "    #total score\n",
    "    return total"
   ]
  },
  {
   "cell_type": "markdown",
   "metadata": {},
   "source": [
    "### Displaying a Hand"
   ]
  },
  {
   "cell_type": "code",
   "execution_count": 54,
   "metadata": {},
   "outputs": [],
   "source": [
    "def displayHand(hand):\n",
    "    \"\"\"\n",
    "    Displays the letters currently in the hand.\n",
    "\n",
    "    For example:\n",
    "    >>> displayHand({'a':1, 'x':2, 'l':3, 'e':1})\n",
    "    Should print out something like:\n",
    "       a x x l l l e\n",
    "    The order of the letters is unimportant.\n",
    "\n",
    "    hand: dictionary (string -> int)\n",
    "    \"\"\"\n",
    "    \n",
    "    #return every letter in hand\n",
    "    for letter in hand.keys():\n",
    "        for j in range(hand[letter]):\n",
    "             print(Fore.MAGENTA + letter,end=\" \")      # print all on the same line\n",
    "    print()                             # print an empty line"
   ]
  },
  {
   "cell_type": "markdown",
   "metadata": {},
   "source": [
    "### Deal hand"
   ]
  },
  {
   "cell_type": "code",
   "execution_count": 55,
   "metadata": {},
   "outputs": [],
   "source": [
    "def dealHand(n):\n",
    "    \"\"\"\n",
    "    Returns a random hand containing n lowercase letters.\n",
    "    At least n/3 the letters in the hand should be VOWELS.\n",
    "\n",
    "    Hands are represented as dictionaries. The keys are\n",
    "    letters and the values are the number of times the\n",
    "    particular letter is repeated in that hand.\n",
    "\n",
    "    n: int >= 0\n",
    "    returns: dictionary (string -> int)\n",
    "    \"\"\"\n",
    "    #hand - dictionary\n",
    "    hand={}\n",
    "    \n",
    "    #minimum amount of vowels are used\n",
    "    numVowels = n // 3\n",
    "    \n",
    "    #get random vowels\n",
    "    for i in range(numVowels):\n",
    "        x = VOWELS[random.randrange(0,len(VOWELS))]\n",
    "        hand[x] = hand.get(x, 0) + 1\n",
    "        \n",
    "    #get random consonants\n",
    "    for i in range(numVowels, n):    \n",
    "        x = CONSONANTS[random.randrange(0,len(CONSONANTS))]\n",
    "        hand[x] = hand.get(x, 0) + 1\n",
    "        \n",
    "    #return hand of n letters\n",
    "    return hand"
   ]
  },
  {
   "cell_type": "markdown",
   "metadata": {},
   "source": [
    "### Update a hand by removing letters"
   ]
  },
  {
   "cell_type": "code",
   "execution_count": 56,
   "metadata": {},
   "outputs": [],
   "source": [
    "def updateHand(hand, word):\n",
    "    \"\"\"\n",
    "    Assumes that 'hand' has all the letters in word.\n",
    "    In other words, this assumes that however many times\n",
    "    a letter appears in 'word', 'hand' has at least as\n",
    "    many of that letter in it. \n",
    "\n",
    "    Updates the hand: uses up the letters in the given word\n",
    "    and returns the new hand, without those letters in it.\n",
    "\n",
    "    Has no side effects: does not modify hand.\n",
    "\n",
    "    word: string\n",
    "    hand: dictionary (string -> int)    \n",
    "    returns: dictionary (string -> int)\n",
    "    \"\"\"\n",
    "    \n",
    "    #copy of hand dictionary that can be updated\n",
    "    newHand = hand.copy()\n",
    "    \n",
    "    #if letter is used in word, remove from hand\n",
    "    for letter in word:\n",
    "        newHand[letter] -= 1\n",
    "        if newHand[letter] == 0:\n",
    "            del(newHand[letter])\n",
    "    \n",
    "    #updated newHand, does not change hand\n",
    "    return newHand"
   ]
  },
  {
   "cell_type": "markdown",
   "metadata": {},
   "source": [
    "### Test a word's validity"
   ]
  },
  {
   "cell_type": "code",
   "execution_count": 57,
   "metadata": {},
   "outputs": [],
   "source": [
    "def isValidWord(word, hand, wordList):\n",
    "    \"\"\"\n",
    "    Returns True if word is in the wordList and is entirely\n",
    "    composed of letters in the hand. Otherwise, returns False.\n",
    "\n",
    "    Does not mutate hand or wordList.\n",
    "   \n",
    "    word: string\n",
    "    hand: dictionary (string -> int)\n",
    "    wordList: list of lowercase strings\n",
    "    \"\"\"\n",
    "    \n",
    "    #check if word in wordList\n",
    "    if word not in wordList:\n",
    "        return False\n",
    "    \n",
    "    #get number of letters in user's word\n",
    "    freq = getFrequencyDict(word)\n",
    "    \n",
    "    #check if letters used are in hand\n",
    "    for letter in freq:\n",
    "        if hand.get(letter,0) < freq[letter]:\n",
    "            return False\n",
    "    return True"
   ]
  },
  {
   "cell_type": "markdown",
   "metadata": {},
   "source": [
    "### Calculate hand len"
   ]
  },
  {
   "cell_type": "code",
   "execution_count": 58,
   "metadata": {},
   "outputs": [],
   "source": [
    "def calculateHandlen(hand):\n",
    "    \"\"\" \n",
    "    Returns the length (number of letters) in the current hand.\n",
    "    \n",
    "    hand: dictionary (string-> int)\n",
    "    returns: integer\n",
    "    \"\"\"\n",
    "    \n",
    "    #keep track of hand length\n",
    "    handLen = 0\n",
    "    \n",
    "    for key in hand:\n",
    "        handLen += hand.get(key)\n",
    "    return handLen"
   ]
  },
  {
   "cell_type": "markdown",
   "metadata": {},
   "source": [
    "### Play Hand"
   ]
  },
  {
   "cell_type": "code",
   "execution_count": 59,
   "metadata": {},
   "outputs": [],
   "source": [
    "def playHand(hand, wordList, n):\n",
    "    \"\"\"\n",
    "    Allows the user to play the given hand, as follows:\n",
    "\n",
    "    * The hand is displayed.\n",
    "    * The user may input a word or a single period (the string \".\") \n",
    "      to indicate they're done playing\n",
    "    * Invalid words are rejected, and a message is displayed asking\n",
    "      the user to choose another word until they enter a valid word or \".\"\n",
    "    * When a valid word is entered, it uses up letters from the hand.\n",
    "    * After every valid word: the score for that word is displayed,\n",
    "      the remaining letters in the hand are displayed, and the user\n",
    "      is asked to input another word.\n",
    "    * The sum of the word scores is displayed when the hand finishes.\n",
    "    * The hand finishes when there are no more unused letters or the user\n",
    "      inputs a \".\"\n",
    "\n",
    "      hand: dictionary (string -> int)\n",
    "      wordList: list of lowercase strings\n",
    "      n: integer (HAND_SIZE; i.e., hand size required for additional points)\n",
    "      \n",
    "    \"\"\"\n",
    "\n",
    "    # Keep track of the total score\n",
    "    total = 0\n",
    "    \n",
    "    # As long as there are still letters left in the hand:\n",
    "    while len(hand) > 0:\n",
    "        # Display the hand\n",
    "        print(Fore.BLUE + \"Current Hand: \")\n",
    "        print(\"\\n\")\n",
    "        displayHand(hand)\n",
    "        # Ask user for input\n",
    "        userInput = input(Fore.BLUE + \"Enter word or single period to end game: \") \n",
    "        # If the input is a single period:\n",
    "        if userInput == \".\":\n",
    "            break\n",
    "            # End the game (break out of the loop)\n",
    "\n",
    "        else:\n",
    "        # Otherwise (the input is not a single period):\n",
    "        \n",
    "            # If the word is not valid:\n",
    "            if isValidWord(userInput,hand,wordList) == False:\n",
    "                print(Fore.BLUE + \"Word is invalid \\n\")\n",
    "                print(\"\\n\")\n",
    "                # Reject invalid word (print a message followed by a blank line)\n",
    "\n",
    "            # Otherwise (the word is valid):\n",
    "            else:\n",
    "                total += getWordScore(userInput,n)\n",
    "                print(Fore.BLUE + \"Points Earned:\",getWordScore(userInput,n),Fore.BLUE + \"Total Points:\",total)\n",
    "                print(\"\\n\")\n",
    "                # Tell the user how many points the word earned, and the updated total score, in one line followed by a blank line\n",
    "                \n",
    "                # Update the hand \n",
    "                hand = updateHand(hand,userInput)\n",
    "    \n",
    "    # Game is over (user entered a '.' or ran out of letters), so tell user the total score\n",
    "    if len(hand) == 0:\n",
    "        print(Fore.GREEN + \"Out of letters! Total score:\",total)\n",
    "    else:\n",
    "        print(Fore.GREEN + \"Game Over! Total Score:\",total)"
   ]
  },
  {
   "cell_type": "markdown",
   "metadata": {},
   "source": [
    "### Playing a game"
   ]
  },
  {
   "cell_type": "code",
   "execution_count": 60,
   "metadata": {},
   "outputs": [],
   "source": [
    "def playGame(wordList):\n",
    "    hand = []\n",
    "    \n",
    "    #want the game to continue until \"exit\"\n",
    "    while True:\n",
    "        user_choice = input(Fore.BLUE + 'Enter n to deal a new hand, r to replay the last hand, or e to end game: ')\n",
    "        if user_choice == 'e':\n",
    "            print(Fore.BLUE + \"Play again soon!\")\n",
    "            break\n",
    "        else:\n",
    "            if user_choice == 'n':\n",
    "                hand = dealHand(HAND_SIZE)\n",
    "                playHand(hand, wordList, HAND_SIZE)\n",
    "                \n",
    "            #reuse last hand\n",
    "            elif user_choice == 'r' and len(hand) != 0:\n",
    "                playHand(hand, wordList, HAND_SIZE)\n",
    "            elif user_choice == 'r':\n",
    "                print(Fore.RED + 'You have not played a hand yet. Please play a new hand first!')\n",
    "                print(\"\\n\")\n",
    "            else:\n",
    "                print(Fore.RED + 'Invalid command.')\n",
    "                print(\"\\n\")"
   ]
  },
  {
   "cell_type": "code",
   "execution_count": 62,
   "metadata": {},
   "outputs": [
    {
     "name": "stdout",
     "output_type": "stream",
     "text": [
      "Loading word list from file...\n",
      "   83667 words loaded.\n",
      "Enter n to deal a new hand, r to replay the last hand, or e to end game: n\n",
      "\u001b[34mCurrent Hand: \n",
      "\n",
      "\n",
      "\u001b[35mu \u001b[35mo \u001b[35mj \u001b[35mn \u001b[35mc \u001b[35mp \u001b[35mr \n",
      "Enter word or single period to end game: not\n",
      "\u001b[34mWord is invalid \n",
      "\n",
      "\n",
      "\n",
      "\u001b[34mCurrent Hand: \n",
      "\n",
      "\n",
      "\u001b[35mu \u001b[35mo \u001b[35mj \u001b[35mn \u001b[35mc \u001b[35mp \u001b[35mr \n",
      "Enter word or single period to end game: .\n",
      "\u001b[32mGame Over! Total Score: 0\n",
      "Enter n to deal a new hand, r to replay the last hand, or e to end game: r\n",
      "\u001b[34mCurrent Hand: \n",
      "\n",
      "\n",
      "\u001b[35mu \u001b[35mo \u001b[35mj \u001b[35mn \u001b[35mc \u001b[35mp \u001b[35mr \n",
      "Enter word or single period to end game: ron\n",
      "\u001b[34mWord is invalid \n",
      "\n",
      "\n",
      "\n",
      "\u001b[34mCurrent Hand: \n",
      "\n",
      "\n",
      "\u001b[35mu \u001b[35mo \u001b[35mj \u001b[35mn \u001b[35mc \u001b[35mp \u001b[35mr \n",
      "Enter word or single period to end game: .\n",
      "\u001b[32mGame Over! Total Score: 0\n",
      "Enter n to deal a new hand, r to replay the last hand, or e to end game: e\n",
      "\u001b[34mPlay again soon!\n"
     ]
    }
   ],
   "source": [
    "wordList = loadWords()\n",
    "playGame(wordList)"
   ]
  },
  {
   "cell_type": "code",
   "execution_count": null,
   "metadata": {},
   "outputs": [],
   "source": []
  }
 ],
 "metadata": {
  "kernelspec": {
   "display_name": "Python 3",
   "language": "python",
   "name": "python3"
  },
  "language_info": {
   "codemirror_mode": {
    "name": "ipython",
    "version": 3
   },
   "file_extension": ".py",
   "mimetype": "text/x-python",
   "name": "python",
   "nbconvert_exporter": "python",
   "pygments_lexer": "ipython3",
   "version": "3.6.5"
  }
 },
 "nbformat": 4,
 "nbformat_minor": 1
}
